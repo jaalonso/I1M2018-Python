{
  "nbformat": 4,
  "nbformat_minor": 0,
  "metadata": {
    "colab": {
      "name": "Programacion_imperativa_en_Python.ipynb",
      "version": "0.3.2",
      "provenance": [],
      "collapsed_sections": [],
      "include_colab_link": true
    },
    "kernelspec": {
      "name": "python3",
      "display_name": "Python 3"
    }
  },
  "cells": [
    {
      "cell_type": "markdown",
      "metadata": {
        "id": "view-in-github",
        "colab_type": "text"
      },
      "source": [
        "<a href=\"https://colab.research.google.com/github/jaalonso/I1M2018-Python/blob/master/Programacion_imperativa_en_Python.ipynb\" target=\"_parent\"><img src=\"https://colab.research.google.com/assets/colab-badge.svg\" alt=\"Open In Colab\"/></a>"
      ]
    },
    {
      "metadata": {
        "id": "RSmsnGzhmBvY",
        "colab_type": "text"
      },
      "cell_type": "markdown",
      "source": [
        "# Programación imperativa en Python con Colaboratory"
      ]
    },
    {
      "metadata": {
        "id": "yZzmN5vOmKss",
        "colab_type": "text"
      },
      "cell_type": "markdown",
      "source": [
        "## Python como calculadora"
      ]
    },
    {
      "metadata": {
        "id": "XQLi7f0pmWwB",
        "colab_type": "text"
      },
      "cell_type": "markdown",
      "source": [
        ""
      ]
    },
    {
      "metadata": {
        "id": "o6OXBaNOmcTr",
        "colab_type": "code",
        "colab": {
          "base_uri": "https://localhost:8080/",
          "height": 34
        },
        "outputId": "a755c1dc-cf58-4cf9-d66c-64ee5f118802"
      },
      "cell_type": "code",
      "source": [
        "2 * 5 + 6 - (100 + 3)"
      ],
      "execution_count": 14,
      "outputs": [
        {
          "output_type": "execute_result",
          "data": {
            "text/plain": [
              "-87"
            ]
          },
          "metadata": {
            "tags": []
          },
          "execution_count": 14
        }
      ]
    },
    {
      "metadata": {
        "id": "HyU1MbRtm99J",
        "colab_type": "code",
        "colab": {
          "base_uri": "https://localhost:8080/",
          "height": 34
        },
        "outputId": "a90ae8ee-09db-4135-8184-e38fe90dc3dd"
      },
      "cell_type": "code",
      "source": [
        "8/2, 8/3"
      ],
      "execution_count": 15,
      "outputs": [
        {
          "output_type": "execute_result",
          "data": {
            "text/plain": [
              "(4.0, 2.6666666666666665)"
            ]
          },
          "metadata": {
            "tags": []
          },
          "execution_count": 15
        }
      ]
    },
    {
      "metadata": {
        "id": "HXzzxzNznIMc",
        "colab_type": "code",
        "colab": {
          "base_uri": "https://localhost:8080/",
          "height": 34
        },
        "outputId": "fbf5cc01-a21b-43ca-dae7-779accb26e47"
      },
      "cell_type": "code",
      "source": [
        "7 // 2, 7 % 2"
      ],
      "execution_count": 16,
      "outputs": [
        {
          "output_type": "execute_result",
          "data": {
            "text/plain": [
              "(3, 1)"
            ]
          },
          "metadata": {
            "tags": []
          },
          "execution_count": 16
        }
      ]
    },
    {
      "metadata": {
        "id": "KcEoD2LmnbMg",
        "colab_type": "code",
        "colab": {
          "base_uri": "https://localhost:8080/",
          "height": 34
        },
        "outputId": "81337587-7b81-443c-a353-fa214425e80b"
      },
      "cell_type": "code",
      "source": [
        "2 ** 10"
      ],
      "execution_count": 17,
      "outputs": [
        {
          "output_type": "execute_result",
          "data": {
            "text/plain": [
              "1024"
            ]
          },
          "metadata": {
            "tags": []
          },
          "execution_count": 17
        }
      ]
    },
    {
      "metadata": {
        "id": "oF2Wt2WTnxib",
        "colab_type": "text"
      },
      "cell_type": "markdown",
      "source": [
        "## Variables y asignaciones"
      ]
    },
    {
      "metadata": {
        "id": "-MJksjlVn2K6",
        "colab_type": "code",
        "colab": {
          "base_uri": "https://localhost:8080/",
          "height": 34
        },
        "outputId": "7606293c-84b7-43c1-8c0e-c6e76bf09a56"
      },
      "cell_type": "code",
      "source": [
        "a = 8\n",
        "b = 2 * a\n",
        "b"
      ],
      "execution_count": 18,
      "outputs": [
        {
          "output_type": "execute_result",
          "data": {
            "text/plain": [
              "16"
            ]
          },
          "metadata": {
            "tags": []
          },
          "execution_count": 18
        }
      ]
    },
    {
      "metadata": {
        "id": "iFyQGoouoNCN",
        "colab_type": "code",
        "colab": {
          "base_uri": "https://localhost:8080/",
          "height": 34
        },
        "outputId": "437d51ef-ac7f-4f54-ae70-33bd849522e9"
      },
      "cell_type": "code",
      "source": [
        "a + b"
      ],
      "execution_count": 19,
      "outputs": [
        {
          "output_type": "execute_result",
          "data": {
            "text/plain": [
              "24"
            ]
          },
          "metadata": {
            "tags": []
          },
          "execution_count": 19
        }
      ]
    },
    {
      "metadata": {
        "id": "DIdQoHg1oRkV",
        "colab_type": "code",
        "colab": {
          "base_uri": "https://localhost:8080/",
          "height": 34
        },
        "outputId": "867c7bb7-6627-4be8-e367-25cac5d1bf6c"
      },
      "cell_type": "code",
      "source": [
        "a = a + 1\n",
        "a"
      ],
      "execution_count": 21,
      "outputs": [
        {
          "output_type": "execute_result",
          "data": {
            "text/plain": [
              "10"
            ]
          },
          "metadata": {
            "tags": []
          },
          "execution_count": 21
        }
      ]
    },
    {
      "metadata": {
        "id": "Xf-V0d1l2De2",
        "colab_type": "code",
        "colab": {
          "base_uri": "https://localhost:8080/",
          "height": 34
        },
        "outputId": "c50f19f1-9b9a-492f-c00c-c3b82d2b022e"
      },
      "cell_type": "code",
      "source": [
        "a, b = 2, 5\n",
        "a + 2 * b"
      ],
      "execution_count": 22,
      "outputs": [
        {
          "output_type": "execute_result",
          "data": {
            "text/plain": [
              "12"
            ]
          },
          "metadata": {
            "tags": []
          },
          "execution_count": 22
        }
      ]
    },
    {
      "metadata": {
        "id": "M8C48pWG3Tew",
        "colab_type": "text"
      },
      "cell_type": "markdown",
      "source": [
        "## Definición de funciones"
      ]
    },
    {
      "metadata": {
        "id": "FYz2gPk03pS5",
        "colab_type": "text"
      },
      "cell_type": "markdown",
      "source": [
        "**Ejercicio 1**. Definir la función suma tal que suma(x, y) es la suma de x e y. . Por ejemplo,\n",
        "~~~\n",
        ">>> suma(2,3)\n",
        "5\n",
        "~~~"
      ]
    },
    {
      "metadata": {
        "id": "p-FfLy5E3WD-",
        "colab_type": "code",
        "colab": {}
      },
      "cell_type": "code",
      "source": [
        "def suma(x, y):\n",
        "  return x+y"
      ],
      "execution_count": 0,
      "outputs": []
    },
    {
      "metadata": {
        "id": "v_XY7tnF4IZ6",
        "colab_type": "code",
        "colab": {
          "base_uri": "https://localhost:8080/",
          "height": 34
        },
        "outputId": "e598d23b-986c-438a-8584-d4bfa1e76718"
      },
      "cell_type": "code",
      "source": [
        "suma(2, 3)"
      ],
      "execution_count": 25,
      "outputs": [
        {
          "output_type": "execute_result",
          "data": {
            "text/plain": [
              "5"
            ]
          },
          "metadata": {
            "tags": []
          },
          "execution_count": 25
        }
      ]
    },
    {
      "metadata": {
        "id": "3S6NvX494X0S",
        "colab_type": "text"
      },
      "cell_type": "markdown",
      "source": [
        "## Escritura y lectura"
      ]
    },
    {
      "metadata": {
        "id": "lAslXtd44jQq",
        "colab_type": "text"
      },
      "cell_type": "markdown",
      "source": [
        "**Ejercicio 2.** Definir el procedimiento suma que lea dos números y escriba su suma.  Por ejemplo,\n",
        "~~~\n",
        ">>> suma()\n",
        "Escribe el primer número: 2\n",
        "Escribe el segundo número: 3\n",
        "La suma es: 5\n",
        "~~~"
      ]
    },
    {
      "metadata": {
        "id": "OBcFWU1H4KNF",
        "colab_type": "code",
        "colab": {}
      },
      "cell_type": "code",
      "source": [
        "def suma():\n",
        "  a = eval(input(\"Escribe el primer número: \"))\n",
        "  b = eval(input(\"Escribe el segundo número: \"))\n",
        "  print(\"La suma es:\",a+b)"
      ],
      "execution_count": 0,
      "outputs": []
    },
    {
      "metadata": {
        "id": "mA36X4Ya5yH9",
        "colab_type": "code",
        "colab": {
          "base_uri": "https://localhost:8080/",
          "height": 69
        },
        "outputId": "f6433ef0-f7de-4855-aa4f-1a01fff06c1b"
      },
      "cell_type": "code",
      "source": [
        "suma()"
      ],
      "execution_count": 34,
      "outputs": [
        {
          "output_type": "stream",
          "text": [
            "Escribe el primer número: 2\n",
            "Escribe el segundo número: 3\n",
            "La suma es: 5\n"
          ],
          "name": "stdout"
        }
      ]
    },
    {
      "metadata": {
        "id": "EqhJDkWJ6dLB",
        "colab_type": "text"
      },
      "cell_type": "markdown",
      "source": [
        "## La estructura condicional"
      ]
    },
    {
      "metadata": {
        "id": "0fJzBvcL6iLQ",
        "colab_type": "text"
      },
      "cell_type": "markdown",
      "source": [
        "### Condicionales simples"
      ]
    },
    {
      "metadata": {
        "id": "_fhrefIP6sR3",
        "colab_type": "text"
      },
      "cell_type": "markdown",
      "source": [
        "**Ejercicio 3.** Definir, usando condicionales, la función maximo tal que maximo(x,y) es el máximo de x e y. Por ejemplo,\n",
        "~~~\n",
        ">>> maximo(2, 5)\n",
        "5\n",
        ">>> maximo(2, 1)\n",
        "2\n",
        "~~~"
      ]
    },
    {
      "metadata": {
        "id": "U7U-SRHU51xy",
        "colab_type": "code",
        "colab": {}
      },
      "cell_type": "code",
      "source": [
        "def maximo(x, y) : \n",
        "  if x > y:\n",
        "    return x\n",
        "  else:\n",
        "    return y"
      ],
      "execution_count": 0,
      "outputs": []
    },
    {
      "metadata": {
        "id": "k98NqxB67KW_",
        "colab_type": "code",
        "colab": {
          "base_uri": "https://localhost:8080/",
          "height": 34
        },
        "outputId": "ae5a9f26-1d16-4b65-c713-1c5c91298124"
      },
      "cell_type": "code",
      "source": [
        "maximo(2, 5)"
      ],
      "execution_count": 36,
      "outputs": [
        {
          "output_type": "execute_result",
          "data": {
            "text/plain": [
              "5"
            ]
          },
          "metadata": {
            "tags": []
          },
          "execution_count": 36
        }
      ]
    },
    {
      "metadata": {
        "id": "NJkaQfUF7Zto",
        "colab_type": "code",
        "colab": {
          "base_uri": "https://localhost:8080/",
          "height": 34
        },
        "outputId": "a5aa7d57-7493-420b-8fdc-973d55f9ba23"
      },
      "cell_type": "code",
      "source": [
        "maximo (2, 1)"
      ],
      "execution_count": 37,
      "outputs": [
        {
          "output_type": "execute_result",
          "data": {
            "text/plain": [
              "2"
            ]
          },
          "metadata": {
            "tags": []
          },
          "execution_count": 37
        }
      ]
    },
    {
      "metadata": {
        "id": "MgnHSnGC7ihW",
        "colab_type": "text"
      },
      "cell_type": "markdown",
      "source": [
        "### Condicionales múltiples"
      ]
    },
    {
      "metadata": {
        "id": "jFbQzfn77n3D",
        "colab_type": "text"
      },
      "cell_type": "markdown",
      "source": [
        "**Ejercicio 4.** Definir la función signo tal que signo(x) es el signo de x. Por ejemplo,\n",
        "~~~\n",
        ">>> signo(5)\n",
        "1\n",
        ">>> signo(-7)\n",
        "- 1\n",
        ">>> signo(0)\n",
        "0\n",
        "~~~"
      ]
    },
    {
      "metadata": {
        "id": "3K30z7RC7dl7",
        "colab_type": "code",
        "colab": {}
      },
      "cell_type": "code",
      "source": [
        "def signo(x): \n",
        "  if x > 0: \n",
        "    return 1\n",
        "  elif x < 0:\n",
        "    return -1\n",
        "  else:\n",
        "    return 0"
      ],
      "execution_count": 0,
      "outputs": []
    },
    {
      "metadata": {
        "id": "1Cc-K_9o8Rw2",
        "colab_type": "code",
        "colab": {
          "base_uri": "https://localhost:8080/",
          "height": 34
        },
        "outputId": "0916d3e0-4a9b-4e8c-a49f-720a9c03c98c"
      },
      "cell_type": "code",
      "source": [
        "signo(5)"
      ],
      "execution_count": 39,
      "outputs": [
        {
          "output_type": "execute_result",
          "data": {
            "text/plain": [
              "1"
            ]
          },
          "metadata": {
            "tags": []
          },
          "execution_count": 39
        }
      ]
    },
    {
      "metadata": {
        "id": "r6Kd20Su8dtn",
        "colab_type": "code",
        "colab": {
          "base_uri": "https://localhost:8080/",
          "height": 34
        },
        "outputId": "3b088728-e67d-4552-d519-84129756ff30"
      },
      "cell_type": "code",
      "source": [
        "signo(-7)"
      ],
      "execution_count": 41,
      "outputs": [
        {
          "output_type": "execute_result",
          "data": {
            "text/plain": [
              "-1"
            ]
          },
          "metadata": {
            "tags": []
          },
          "execution_count": 41
        }
      ]
    },
    {
      "metadata": {
        "id": "WlGJn1aP8ghu",
        "colab_type": "code",
        "colab": {
          "base_uri": "https://localhost:8080/",
          "height": 34
        },
        "outputId": "72fd8e88-9df7-420e-a5c6-86383f707418"
      },
      "cell_type": "code",
      "source": [
        "signo(0)"
      ],
      "execution_count": 42,
      "outputs": [
        {
          "output_type": "execute_result",
          "data": {
            "text/plain": [
              "0"
            ]
          },
          "metadata": {
            "tags": []
          },
          "execution_count": 42
        }
      ]
    },
    {
      "metadata": {
        "id": "_L9lyY3F_fHV",
        "colab_type": "text"
      },
      "cell_type": "markdown",
      "source": [
        "## Estructuras iterativas"
      ]
    },
    {
      "metadata": {
        "id": "Gdgq6_Ov_hw5",
        "colab_type": "text"
      },
      "cell_type": "markdown",
      "source": [
        "### Bucles mientras"
      ]
    },
    {
      "metadata": {
        "id": "cBb6i4zE_wj9",
        "colab_type": "text"
      },
      "cell_type": "markdown",
      "source": [
        "**Ejercicio 5.** Definir, con un bucle while, la función sumaImpares tal que sumaImpares(n) es la suma de los n primeros números impares. Por ejemplo,\n",
        "\n",
        "~~~\n",
        ">>> sumaImpares(3)\n",
        "9\n",
        ">>> sumaImpares(4)\n",
        "16\n",
        "~~~"
      ]
    },
    {
      "metadata": {
        "id": "AhE7e3sm8iF0",
        "colab_type": "code",
        "colab": {}
      },
      "cell_type": "code",
      "source": [
        "def sumaImpares(n):\n",
        "  s, k = 0, 0 \n",
        "  while k < n:\n",
        "    s = s + 2*k + 1\n",
        "    k = k + 1\n",
        "  return s"
      ],
      "execution_count": 0,
      "outputs": []
    },
    {
      "metadata": {
        "id": "rjBqgcSbAzLP",
        "colab_type": "code",
        "colab": {
          "base_uri": "https://localhost:8080/",
          "height": 34
        },
        "outputId": "d1a1074a-fe43-4a23-9e8c-1ea214bd5986"
      },
      "cell_type": "code",
      "source": [
        "sumaImpares(3)"
      ],
      "execution_count": 45,
      "outputs": [
        {
          "output_type": "execute_result",
          "data": {
            "text/plain": [
              "9"
            ]
          },
          "metadata": {
            "tags": []
          },
          "execution_count": 45
        }
      ]
    },
    {
      "metadata": {
        "id": "wnErAFxkA2Xq",
        "colab_type": "code",
        "colab": {
          "base_uri": "https://localhost:8080/",
          "height": 34
        },
        "outputId": "e7b70aca-9b64-4ab7-f297-3c298dde27e6"
      },
      "cell_type": "code",
      "source": [
        "sumaImpares(4)"
      ],
      "execution_count": 46,
      "outputs": [
        {
          "output_type": "execute_result",
          "data": {
            "text/plain": [
              "16"
            ]
          },
          "metadata": {
            "tags": []
          },
          "execution_count": 46
        }
      ]
    },
    {
      "metadata": {
        "id": "bh21ciIUBGbO",
        "colab_type": "text"
      },
      "cell_type": "markdown",
      "source": [
        "**Ejercicio 6.** Definir la función mayorExponente tal que mayorExponente(a,n) es el mayor k tal que a^k divide a n. Por ejemplo,\n",
        "\n",
        "~~~\n",
        ">>> mayorExponente(2,40);\n",
        "3\n",
        "~~~"
      ]
    },
    {
      "metadata": {
        "id": "0T4eNVETB0Sq",
        "colab_type": "code",
        "colab": {}
      },
      "cell_type": "code",
      "source": [
        "def mayorExponente(a, n):\n",
        "  k = 0\n",
        "  while (n % a == 0):\n",
        "    n = n/a\n",
        "    k = k + 1\n",
        "  return k"
      ],
      "execution_count": 0,
      "outputs": []
    },
    {
      "metadata": {
        "id": "FnYolbVTA9JQ",
        "colab_type": "code",
        "colab": {
          "base_uri": "https://localhost:8080/",
          "height": 34
        },
        "outputId": "23e269eb-a5cc-4d57-ea30-7e9956d6cad2"
      },
      "cell_type": "code",
      "source": [
        "mayorExponente(2, 40)"
      ],
      "execution_count": 48,
      "outputs": [
        {
          "output_type": "execute_result",
          "data": {
            "text/plain": [
              "3"
            ]
          },
          "metadata": {
            "tags": []
          },
          "execution_count": 48
        }
      ]
    },
    {
      "metadata": {
        "id": "oubIiw8JCaXH",
        "colab_type": "text"
      },
      "cell_type": "markdown",
      "source": [
        "### Bucle para"
      ]
    },
    {
      "metadata": {
        "id": "JAruvRmOCmOx",
        "colab_type": "text"
      },
      "cell_type": "markdown",
      "source": [
        "**Ejercicio 7.** Definir, por iteración con for, la función fact tal que fact(n) es el factorial de n. Por ejemplo,\n",
        "\n",
        "~~~\n",
        ">>> fact 4\n",
        "24\n",
        "~~~"
      ]
    },
    {
      "metadata": {
        "id": "Yhzp0yMwCWNa",
        "colab_type": "code",
        "colab": {}
      },
      "cell_type": "code",
      "source": [
        "def fact(n): \n",
        "  f = 1\n",
        "  for k in range(1,n+1):\n",
        "    f = f * k\n",
        "  return f"
      ],
      "execution_count": 0,
      "outputs": []
    },
    {
      "metadata": {
        "id": "QBzfVNW_DcsH",
        "colab_type": "code",
        "colab": {
          "base_uri": "https://localhost:8080/",
          "height": 34
        },
        "outputId": "7c118d64-1fee-490e-ae58-7a321961a1be"
      },
      "cell_type": "code",
      "source": [
        "fact(4)"
      ],
      "execution_count": 57,
      "outputs": [
        {
          "output_type": "execute_result",
          "data": {
            "text/plain": [
              "24"
            ]
          },
          "metadata": {
            "tags": []
          },
          "execution_count": 57
        }
      ]
    },
    {
      "metadata": {
        "id": "e9HDAKzBEcSL",
        "colab_type": "text"
      },
      "cell_type": "markdown",
      "source": [
        "### Bucle para sobre listas"
      ]
    },
    {
      "metadata": {
        "id": "_UVYfJjUEe2D",
        "colab_type": "text"
      },
      "cell_type": "markdown",
      "source": [
        "**Ejercicio 8.** Definir, por iteración, la función suma tal que suma(xs) es a suma de los números de la lista xs. Por ejemplo,\n",
        "~~~\n",
        ">>> suma([3,2,5])\n",
        "10\n",
        "~~~"
      ]
    },
    {
      "metadata": {
        "id": "dFFgmQUZDeyw",
        "colab_type": "code",
        "colab": {}
      },
      "cell_type": "code",
      "source": [
        "def suma(xs): \n",
        "  r = 0\n",
        "  for x in xs: \n",
        "    r = x + r\n",
        "  return r"
      ],
      "execution_count": 0,
      "outputs": []
    },
    {
      "metadata": {
        "id": "R67fyFWeE7Pz",
        "colab_type": "code",
        "colab": {
          "base_uri": "https://localhost:8080/",
          "height": 34
        },
        "outputId": "062609c6-fbc6-4898-c424-18ff4b31dc3c"
      },
      "cell_type": "code",
      "source": [
        "suma([3, 2, 5])"
      ],
      "execution_count": 59,
      "outputs": [
        {
          "output_type": "execute_result",
          "data": {
            "text/plain": [
              "10"
            ]
          },
          "metadata": {
            "tags": []
          },
          "execution_count": 59
        }
      ]
    },
    {
      "metadata": {
        "id": "Qkv2u9JlFEQM",
        "colab_type": "text"
      },
      "cell_type": "markdown",
      "source": [
        "## Recursión"
      ]
    },
    {
      "metadata": {
        "id": "7I3iZ-lqFJTY",
        "colab_type": "text"
      },
      "cell_type": "markdown",
      "source": [
        "**Ejercicio 9.** Definir, por recursión, la función fact tal que factR(n) es el factorial de n. Por ejemplo,\n",
        "~~~\n",
        ">>> fact 4\n",
        "24\n",
        "~~~"
      ]
    },
    {
      "metadata": {
        "id": "cSt25__2E-rZ",
        "colab_type": "code",
        "colab": {}
      },
      "cell_type": "code",
      "source": [
        "def fact(n):\n",
        "  if n == 0: \n",
        "    return 1\n",
        "  else:     \n",
        "    return n * fact(n-1)"
      ],
      "execution_count": 0,
      "outputs": []
    },
    {
      "metadata": {
        "id": "1qHs5AK-Fglc",
        "colab_type": "code",
        "colab": {
          "base_uri": "https://localhost:8080/",
          "height": 34
        },
        "outputId": "d5c2e29d-cc7b-45f9-86cd-87b704137216"
      },
      "cell_type": "code",
      "source": [
        "fact(4)"
      ],
      "execution_count": 62,
      "outputs": [
        {
          "output_type": "execute_result",
          "data": {
            "text/plain": [
              "24"
            ]
          },
          "metadata": {
            "tags": []
          },
          "execution_count": 62
        }
      ]
    }
  ]
}